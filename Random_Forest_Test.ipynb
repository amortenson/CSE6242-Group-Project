{
 "cells": [
  {
   "cell_type": "code",
   "execution_count": 1,
   "id": "afb84256-fc9b-432c-85ba-6acb4e5ad855",
   "metadata": {},
   "outputs": [],
   "source": [
    "import pandas as pd\n",
    "import matplotlib.pyplot as plt\n",
    "import numpy as np\n",
    "import seaborn as sns\n",
    "from sklearn.linear_model import LogisticRegression\n",
    "from sklearn.model_selection import train_test_split\n",
    "from sklearn.metrics import classification_report, accuracy_score\n",
    "from sklearn.preprocessing import LabelEncoder\n",
    "from sklearn.ensemble import RandomForestClassifier\n",
    "from sklearn.inspection import permutation_importance\n",
    "import shap"
   ]
  },
  {
   "cell_type": "code",
   "execution_count": 2,
   "id": "0e5f72c3-2d3d-4611-bf77-0eba0513ecf7",
   "metadata": {},
   "outputs": [],
   "source": [
    "# Replace 'your_file.txt' with the path to your actual file\n",
    "file_path = 'C:\\\\Users\\\\mcorn\\\\Documents\\\\CSE_6242\\\\Project\\\\fnma_sf2022c_loans.txt'\n",
    "\n",
    "# For a TSV file, you would use sep='\\t'\n",
    "df = pd.read_csv(file_path, delim_whitespace=True, header=None)"
   ]
  },
  {
   "cell_type": "code",
   "execution_count": 3,
   "id": "0b3d9958-3613-4896-9853-d09b2c1d910b",
   "metadata": {},
   "outputs": [],
   "source": [
    "#column names from Aaron's code\n",
    "colnames = [\"enterprise_flag\",\n",
    "                \"record_num\",\n",
    "                \"state_fips_code\",\n",
    "                \"msa_code\",\n",
    "                \"county_fips_code\",\n",
    "                \"census_tract\", \n",
    "                \"tract_pct_minority\",\n",
    "                \"tract_median_income\",\n",
    "                \"local_median_income\",\n",
    "                \"tract_income_ratio\",\n",
    "                \"borrower_income\",\n",
    "                \"local_median_family_income\",\n",
    "                \"borrower_income_ratio\",\n",
    "                \"upb\",\n",
    "                \"purpose\",\n",
    "                \"federal_guarantee\",\n",
    "                \"num_borrowers\",\n",
    "                \"first_time_buyer\",\n",
    "                \"borrower_race_1\", \n",
    "                \"borrower_race_2\",\n",
    "                \"borrower_race_3\",\n",
    "                \"borrower_race_4\",\n",
    "                \"borrower_race\", # use this\n",
    "                \"borrower_ethnicity\",\n",
    "                \"co-borrower_race_1\", \n",
    "                \"co-borrower_race_2\",\n",
    "                \"co-borrower_race_3\",\n",
    "                \"co-borrower_race_4\",\n",
    "                \"co-borrower_race\",\n",
    "                \"co-borrower_ethnicity\",\n",
    "                \"borrower_gender\",\n",
    "                \"co-borrower_gender\",\n",
    "                \"borrower_age\",\n",
    "                \"co-borrower_age\",\n",
    "                \"occupancy_code\",\n",
    "                \"rate_spread\",\n",
    "                \"HOEPA_status\",\n",
    "                \"property_type\",\n",
    "                \"lien_status\",\n",
    "                \"borrower_62+\",\n",
    "                \"co-borrower_62+\",\n",
    "                \"ltv\",\n",
    "                \"date_of_note\",\n",
    "                \"term_at_orig\",\n",
    "                \"num_units\",\n",
    "                \"rate_at_orig\",\n",
    "                \"note_amount\",\n",
    "                \"preapproval\",\n",
    "                \"application_channel\",\n",
    "                \"AUS_name\",\n",
    "                \"borrower_credit_model\",\n",
    "                \"co-borrower_credit_model\",\n",
    "                \"dti\",\n",
    "                \"discount_points\",\n",
    "                \"intro_rate_period\",\n",
    "                \"land_property_interest\",\n",
    "                \"property_value\",\n",
    "                \"rural_tract\",\n",
    "                \"mississippi_delta_county\",\n",
    "                \"mid_appalachia_county\",\n",
    "                \"persistent_poverty_county\",\n",
    "                \"area_concentrated_poverty\",\n",
    "                \"high_opportunity_area\"]\n"
   ]
  },
  {
   "cell_type": "code",
   "execution_count": 4,
   "id": "cbe745b5-1acf-4ce5-b5df-f39e779e3f05",
   "metadata": {},
   "outputs": [],
   "source": [
    "#rename column names in df\n",
    "df.columns = colnames"
   ]
  },
  {
   "cell_type": "code",
   "execution_count": 8,
   "id": "2f379183-3a76-43cc-99b3-95e1c3efe711",
   "metadata": {},
   "outputs": [],
   "source": [
    "#function to convert dti to categorical variable\n",
    "\n",
    "def map_dti_to_label(dti):\n",
    "    if dti in [10, 20, 30]:\n",
    "        return '< 35%'\n",
    "    elif 36 <= dti <= 98:\n",
    "        return '> 35%'  \n",
    "    elif dti == 99:\n",
    "        return 'Not available'\n",
    "    else:\n",
    "        return 'Other'"
   ]
  },
  {
   "cell_type": "code",
   "execution_count": 9,
   "id": "b4f9f494-d2c5-4c95-a894-60376fbf0180",
   "metadata": {},
   "outputs": [],
   "source": [
    "#apply to dataset and create new column\n",
    "df['DTI_Category'] = df['dti'].apply(map_dti_to_label)"
   ]
  },
  {
   "cell_type": "code",
   "execution_count": 11,
   "id": "52a64e37-6382-450e-b974-6f5c7ffe6274",
   "metadata": {},
   "outputs": [
    {
     "data": {
      "text/plain": [
       "DTI_Category\n",
       "> 35%            1137548\n",
       "< 35%             899463\n",
       "Not available          4\n",
       "Name: count, dtype: int64"
      ]
     },
     "execution_count": 11,
     "metadata": {},
     "output_type": "execute_result"
    }
   ],
   "source": [
    "#DTI Category distribution\n",
    "df['DTI_Category'].value_counts()"
   ]
  },
  {
   "cell_type": "code",
   "execution_count": null,
   "id": "86e09ce7-21a6-4aff-85ed-1f3851364bc2",
   "metadata": {},
   "outputs": [],
   "source": []
  },
  {
   "cell_type": "code",
   "execution_count": null,
   "id": "490c5a4d-46aa-43be-931a-b77bc811bf0a",
   "metadata": {},
   "outputs": [],
   "source": []
  },
  {
   "cell_type": "code",
   "execution_count": 15,
   "id": "310da434-94f0-47f5-bdd8-ff0a76131592",
   "metadata": {},
   "outputs": [],
   "source": [
    "#remove instances where DTI is NA from dataset \n",
    "pred_df = df[df['DTI_Category'] != 'Not available']"
   ]
  },
  {
   "cell_type": "code",
   "execution_count": 16,
   "id": "0e8a219c-72a1-4eb9-bad6-1e94790979c3",
   "metadata": {},
   "outputs": [
    {
     "name": "stderr",
     "output_type": "stream",
     "text": [
      "\n",
      "A value is trying to be set on a copy of a slice from a DataFrame.\n",
      "Try using .loc[row_indexer,col_indexer] = value instead\n",
      "\n",
      "See the caveats in the documentation: https://pandas.pydata.org/pandas-docs/stable/user_guide/indexing.html#returning-a-view-versus-a-copy\n"
     ]
    }
   ],
   "source": [
    "#label encode DTI Category\n",
    "categories_order = ['< 35%' , '> 35%']\n",
    "\n",
    "label_encoder = LabelEncoder()\n",
    "label_encoder.fit(categories_order)\n",
    "\n",
    "pred_df['DTI_Category_encoded'] = label_encoder.transform(pred_df['DTI_Category'])"
   ]
  },
  {
   "cell_type": "code",
   "execution_count": 17,
   "id": "9baf11f6-ddda-4d97-95db-25935843337d",
   "metadata": {},
   "outputs": [],
   "source": [
    "#extract response and explanatory variables from full dataset\n",
    "pred_df_clean = pred_df[['DTI_Category_encoded','tract_pct_minority','local_median_income','borrower_income','property_value','ltv','borrower_race_1','borrower_age','borrower_ethnicity','borrower_gender','purpose','borrower_income_ratio','first_time_buyer','occupancy_code','state_fips_code']]"
   ]
  },
  {
   "cell_type": "code",
   "execution_count": 18,
   "id": "500b9cc1-6853-4310-ad6b-802e18f3369f",
   "metadata": {},
   "outputs": [],
   "source": [
    "#convert categorical fields to binary\n",
    "pred_df_clean = pd.get_dummies(pred_df_clean, columns=['borrower_race_1','borrower_age','borrower_ethnicity','borrower_gender','purpose','first_time_buyer','occupancy_code','state_fips_code'], drop_first = True)\n",
    "pred_df_clean = pred_df_clean.astype(int)"
   ]
  },
  {
   "cell_type": "code",
   "execution_count": 19,
   "id": "442aa77c-1f14-49d4-886e-ec0e4a5daaaf",
   "metadata": {},
   "outputs": [],
   "source": [
    "#drop N/As\n",
    "pred_df_clean = pred_df_clean.dropna()"
   ]
  },
  {
   "cell_type": "code",
   "execution_count": 20,
   "id": "a286ff56-4e7a-4532-a886-46c7ea4f8e66",
   "metadata": {},
   "outputs": [],
   "source": [
    "#sample 10% of the dataset - an assumption we can revisit, just trying to make the random forset model run faster for now\n",
    "pred_df_clean = pred_df_clean.sample(frac=0.10, random_state=42)"
   ]
  },
  {
   "cell_type": "code",
   "execution_count": null,
   "id": "7c83b52f-2dcb-4789-a114-f71bce389bef",
   "metadata": {},
   "outputs": [],
   "source": []
  },
  {
   "cell_type": "code",
   "execution_count": 21,
   "id": "10579d95-cce9-42f8-adc9-2211bf47ee8b",
   "metadata": {},
   "outputs": [],
   "source": [
    "#split data into x, y\n",
    "y = pred_df_clean['DTI_Category_encoded']\n",
    "X = pred_df_clean.drop(columns=['DTI_Category_encoded'])"
   ]
  },
  {
   "cell_type": "code",
   "execution_count": null,
   "id": "2befc726-1624-4360-beac-46ef993db2f8",
   "metadata": {},
   "outputs": [],
   "source": []
  },
  {
   "cell_type": "code",
   "execution_count": 22,
   "id": "021dbc85-d786-419b-a69d-98170e46fec5",
   "metadata": {},
   "outputs": [
    {
     "name": "stdout",
     "output_type": "stream",
     "text": [
      "Accuracy: 0.6948709892785611\n",
      "Classification Report:\n",
      "              precision    recall  f1-score   support\n",
      "\n",
      "           0       0.67      0.62      0.64     22470\n",
      "           1       0.72      0.75      0.73     28456\n",
      "\n",
      "    accuracy                           0.69     50926\n",
      "   macro avg       0.69      0.69      0.69     50926\n",
      "weighted avg       0.69      0.69      0.69     50926\n",
      "\n"
     ]
    }
   ],
   "source": [
    "#fit random forest model - no changes to hyperparameters for RF\n",
    "X_train, X_test, y_train, y_test = train_test_split(X, y, test_size=0.25, stratify=y, random_state=42)\n",
    "\n",
    "random_forest = RandomForestClassifier(n_estimators=100, random_state=42)\n",
    "\n",
    "random_forest.fit(X_train, y_train)\n",
    "\n",
    "predictions = random_forest.predict(X_test)\n",
    "\n",
    "accuracy = accuracy_score(y_test, predictions)\n",
    "print(\"Accuracy:\", accuracy)\n",
    "\n",
    "print(\"Classification Report:\")\n",
    "print(classification_report(y_test, predictions))"
   ]
  },
  {
   "cell_type": "code",
   "execution_count": 23,
   "id": "199b6808-a890-4bdc-83a1-6dd0084e3392",
   "metadata": {},
   "outputs": [],
   "source": [
    "#extract feature importance and create dataframe\n",
    "feature_importance_df = pd.DataFrame({'Feature': X_train.columns, 'Importance': random_forest.feature_importances_})\n",
    "feature_importance_df = feature_importance_df.sort_values(by='Importance', ascending=False)\n"
   ]
  },
  {
   "cell_type": "code",
   "execution_count": 24,
   "id": "20da74f8-2faf-46d7-817b-0e9edc54a34a",
   "metadata": {},
   "outputs": [
    {
     "data": {
      "image/png": "[encoded data removed]",
      "text/plain": [
       "<Figure size 1000x600 with 1 Axes>"
      ]
     },
     "metadata": {},
     "output_type": "display_data"
    }
   ],
   "source": [
    "# Select the top 10 most important features\n",
    "top_features = feature_importance_df.head(10)\n",
    "\n",
    "# Plot\n",
    "plt.figure(figsize=(10, 6))\n",
    "plt.barh(top_features['Feature'], top_features['Importance'], color='skyblue')\n",
    "plt.xlabel('Importance')\n",
    "plt.ylabel('Feature')\n",
    "plt.title('Top 10 Most Important Features')\n",
    "plt.gca().invert_yaxis()  \n",
    "plt.show()"
   ]
  },
  {
   "cell_type": "code",
   "execution_count": null,
   "id": "d8729e9b-41db-4bc7-9679-b44963721104",
   "metadata": {},
   "outputs": [],
   "source": []
  },
  {
   "cell_type": "code",
   "execution_count": null,
   "id": "7be0c20a-79a3-41c1-953d-542024b0761c",
   "metadata": {},
   "outputs": [],
   "source": []
  },
  {
   "cell_type": "code",
   "execution_count": null,
   "id": "936561e5-8f06-4268-ba6a-a82e4639fdb9",
   "metadata": {},
   "outputs": [],
   "source": []
  }
 ],
 "metadata": {
  "kernelspec": {
   "display_name": "Python 3 (ipykernel)",
   "language": "python",
   "name": "python3"
  },
  "language_info": {
   "codemirror_mode": {
    "name": "ipython",
    "version": 3
   },
   "file_extension": ".py",
   "mimetype": "text/x-python",
   "name": "python",
   "nbconvert_exporter": "python",
   "pygments_lexer": "ipython3",
   "version": "3.8.18"
  }
 },
 "nbformat": 4,
 "nbformat_minor": 5
}
